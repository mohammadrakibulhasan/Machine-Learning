{
 "cells": [
  {
   "cell_type": "code",
   "execution_count": 5,
   "metadata": {},
   "outputs": [
    {
     "name": "stdout",
     "output_type": "stream",
     "text": [
      "Collecting datascience\n",
      "  Downloading https://files.pythonhosted.org/packages/06/12/9dfd266a18200e0c8668f130d310de1e32cdd84271311740629f460ad691/datascience-0.15.4.tar.gz (42kB)\n",
      "Collecting folium>=0.9.1 (from datascience)\n",
      "  Downloading https://files.pythonhosted.org/packages/a4/f0/44e69d50519880287cc41e7c8a6acc58daa9a9acf5f6afc52bcc70f69a6d/folium-0.11.0-py2.py3-none-any.whl (93kB)\n",
      "Requirement already satisfied: sphinx in c:\\users\\nouman ahmad\\anaconda3\\lib\\site-packages (from datascience) (1.8.5)\n",
      "Requirement already satisfied: setuptools in c:\\users\\nouman ahmad\\anaconda3\\lib\\site-packages (from datascience) (40.8.0)\n",
      "Requirement already satisfied: matplotlib>=3.0.0 in c:\\users\\nouman ahmad\\anaconda3\\lib\\site-packages (from datascience) (3.0.3)\n",
      "Requirement already satisfied: pandas in c:\\users\\nouman ahmad\\anaconda3\\lib\\site-packages (from datascience) (0.24.2)\n",
      "Requirement already satisfied: scipy in c:\\users\\nouman ahmad\\anaconda3\\lib\\site-packages (from datascience) (1.2.1)\n",
      "Requirement already satisfied: numpy in c:\\users\\nouman ahmad\\anaconda3\\lib\\site-packages (from datascience) (1.16.2)\n",
      "Requirement already satisfied: ipython in c:\\users\\nouman ahmad\\anaconda3\\lib\\site-packages (from datascience) (7.4.0)\n",
      "Requirement already satisfied: pytest in c:\\users\\nouman ahmad\\anaconda3\\lib\\site-packages (from datascience) (4.3.1)\n",
      "Collecting coverage (from datascience)\n",
      "  Downloading https://files.pythonhosted.org/packages/f3/cf/6ab0887ad2633d8a4688f5fb56d4901822ef6d810a8524b69ca693f2b41e/coverage-5.1-cp37-cp37m-win_amd64.whl (205kB)\n",
      "Collecting coveralls (from datascience)\n",
      "  Downloading https://files.pythonhosted.org/packages/9d/de/449eaed85c6810bcb4b589f89e2d4dfa346f9fa4b747c236699409a85579/coveralls-2.0.0-py2.py3-none-any.whl\n",
      "Requirement already satisfied: bokeh in c:\\users\\nouman ahmad\\anaconda3\\lib\\site-packages (from datascience) (1.0.4)\n",
      "Requirement already satisfied: requests in c:\\users\\nouman ahmad\\anaconda3\\lib\\site-packages (from folium>=0.9.1->datascience) (2.21.0)\n",
      "Collecting branca>=0.3.0 (from folium>=0.9.1->datascience)\n",
      "  Downloading https://files.pythonhosted.org/packages/13/fb/9eacc24ba3216510c6b59a4ea1cd53d87f25ba76237d7f4393abeaf4c94e/branca-0.4.1-py3-none-any.whl\n",
      "Requirement already satisfied: jinja2>=2.9 in c:\\users\\nouman ahmad\\anaconda3\\lib\\site-packages (from folium>=0.9.1->datascience) (2.10)\n",
      "Requirement already satisfied: six>=1.5 in c:\\users\\nouman ahmad\\anaconda3\\lib\\site-packages (from sphinx->datascience) (1.12.0)\n",
      "Requirement already satisfied: Pygments>=2.0 in c:\\users\\nouman ahmad\\anaconda3\\lib\\site-packages (from sphinx->datascience) (2.3.1)\n",
      "Requirement already satisfied: docutils>=0.11 in c:\\users\\nouman ahmad\\anaconda3\\lib\\site-packages (from sphinx->datascience) (0.14)\n",
      "Requirement already satisfied: snowballstemmer>=1.1 in c:\\users\\nouman ahmad\\anaconda3\\lib\\site-packages (from sphinx->datascience) (1.2.1)\n",
      "Requirement already satisfied: babel!=2.0,>=1.3 in c:\\users\\nouman ahmad\\anaconda3\\lib\\site-packages (from sphinx->datascience) (2.6.0)\n",
      "Requirement already satisfied: alabaster<0.8,>=0.7 in c:\\users\\nouman ahmad\\anaconda3\\lib\\site-packages (from sphinx->datascience) (0.7.12)\n",
      "Requirement already satisfied: imagesize in c:\\users\\nouman ahmad\\anaconda3\\lib\\site-packages (from sphinx->datascience) (1.1.0)\n",
      "Requirement already satisfied: packaging in c:\\users\\nouman ahmad\\anaconda3\\lib\\site-packages (from sphinx->datascience) (19.0)\n",
      "Requirement already satisfied: sphinxcontrib-websupport in c:\\users\\nouman ahmad\\anaconda3\\lib\\site-packages (from sphinx->datascience) (1.1.0)\n",
      "Requirement already satisfied: colorama>=0.3.5 in c:\\users\\nouman ahmad\\anaconda3\\lib\\site-packages (from sphinx->datascience) (0.4.1)\n",
      "Requirement already satisfied: cycler>=0.10 in c:\\users\\nouman ahmad\\anaconda3\\lib\\site-packages (from matplotlib>=3.0.0->datascience) (0.10.0)\n",
      "Requirement already satisfied: kiwisolver>=1.0.1 in c:\\users\\nouman ahmad\\anaconda3\\lib\\site-packages (from matplotlib>=3.0.0->datascience) (1.0.1)\n",
      "Requirement already satisfied: pyparsing!=2.0.4,!=2.1.2,!=2.1.6,>=2.0.1 in c:\\users\\nouman ahmad\\anaconda3\\lib\\site-packages (from matplotlib>=3.0.0->datascience) (2.3.1)\n",
      "Requirement already satisfied: python-dateutil>=2.1 in c:\\users\\nouman ahmad\\anaconda3\\lib\\site-packages (from matplotlib>=3.0.0->datascience) (2.8.0)\n",
      "Requirement already satisfied: pytz>=2011k in c:\\users\\nouman ahmad\\anaconda3\\lib\\site-packages (from pandas->datascience) (2018.9)\n",
      "Requirement already satisfied: traitlets>=4.2 in c:\\users\\nouman ahmad\\anaconda3\\lib\\site-packages (from ipython->datascience) (4.3.2)\n",
      "Requirement already satisfied: prompt-toolkit<2.1.0,>=2.0.0 in c:\\users\\nouman ahmad\\anaconda3\\lib\\site-packages (from ipython->datascience) (2.0.9)\n",
      "Requirement already satisfied: backcall in c:\\users\\nouman ahmad\\anaconda3\\lib\\site-packages (from ipython->datascience) (0.1.0)\n",
      "Requirement already satisfied: decorator in c:\\users\\nouman ahmad\\anaconda3\\lib\\site-packages (from ipython->datascience) (4.4.0)\n",
      "Requirement already satisfied: pickleshare in c:\\users\\nouman ahmad\\anaconda3\\lib\\site-packages (from ipython->datascience) (0.7.5)\n",
      "Requirement already satisfied: jedi>=0.10 in c:\\users\\nouman ahmad\\anaconda3\\lib\\site-packages (from ipython->datascience) (0.13.3)\n",
      "Requirement already satisfied: py>=1.5.0 in c:\\users\\nouman ahmad\\anaconda3\\lib\\site-packages (from pytest->datascience) (1.8.0)\n",
      "Requirement already satisfied: attrs>=17.4.0 in c:\\users\\nouman ahmad\\anaconda3\\lib\\site-packages (from pytest->datascience) (19.1.0)\n",
      "Requirement already satisfied: atomicwrites>=1.0 in c:\\users\\nouman ahmad\\anaconda3\\lib\\site-packages (from pytest->datascience) (1.3.0)\n",
      "Requirement already satisfied: pluggy>=0.7 in c:\\users\\nouman ahmad\\anaconda3\\lib\\site-packages (from pytest->datascience) (0.9.0)\n",
      "Requirement already satisfied: more-itertools>=4.0.0 in c:\\users\\nouman ahmad\\anaconda3\\lib\\site-packages (from pytest->datascience) (6.0.0)\n",
      "Collecting docopt>=0.6.1 (from coveralls->datascience)\n",
      "  Downloading https://files.pythonhosted.org/packages/a2/55/8f8cab2afd404cf578136ef2cc5dfb50baa1761b68c9da1fb1e4eed343c9/docopt-0.6.2.tar.gz\n",
      "Requirement already satisfied: tornado>=4.3 in c:\\users\\nouman ahmad\\anaconda3\\lib\\site-packages (from bokeh->datascience) (6.0.2)\n",
      "Requirement already satisfied: PyYAML>=3.10 in c:\\users\\nouman ahmad\\anaconda3\\lib\\site-packages (from bokeh->datascience) (5.1)\n",
      "Requirement already satisfied: pillow>=4.0 in c:\\users\\nouman ahmad\\anaconda3\\lib\\site-packages (from bokeh->datascience) (5.4.1)\n",
      "Requirement already satisfied: chardet<3.1.0,>=3.0.2 in c:\\users\\nouman ahmad\\anaconda3\\lib\\site-packages (from requests->folium>=0.9.1->datascience) (3.0.4)\n",
      "Requirement already satisfied: idna<2.9,>=2.5 in c:\\users\\nouman ahmad\\anaconda3\\lib\\site-packages (from requests->folium>=0.9.1->datascience) (2.8)\n",
      "Requirement already satisfied: urllib3<1.25,>=1.21.1 in c:\\users\\nouman ahmad\\anaconda3\\lib\\site-packages (from requests->folium>=0.9.1->datascience) (1.24.1)\n",
      "Requirement already satisfied: certifi>=2017.4.17 in c:\\users\\nouman ahmad\\anaconda3\\lib\\site-packages (from requests->folium>=0.9.1->datascience) (2020.4.5.1)\n",
      "Requirement already satisfied: MarkupSafe>=0.23 in c:\\users\\nouman ahmad\\anaconda3\\lib\\site-packages (from jinja2>=2.9->folium>=0.9.1->datascience) (1.1.1)\n",
      "Requirement already satisfied: ipython-genutils in c:\\users\\nouman ahmad\\anaconda3\\lib\\site-packages (from traitlets>=4.2->ipython->datascience) (0.2.0)\n",
      "Requirement already satisfied: wcwidth in c:\\users\\nouman ahmad\\anaconda3\\lib\\site-packages (from prompt-toolkit<2.1.0,>=2.0.0->ipython->datascience) (0.1.7)\n",
      "Requirement already satisfied: parso>=0.3.0 in c:\\users\\nouman ahmad\\anaconda3\\lib\\site-packages (from jedi>=0.10->ipython->datascience) (0.3.4)\n",
      "Building wheels for collected packages: datascience, docopt\n",
      "  Building wheel for datascience (setup.py): started\n",
      "  Building wheel for datascience (setup.py): finished with status 'done'\n",
      "  Stored in directory: C:\\Users\\Nouman Ahmad\\AppData\\Local\\pip\\Cache\\wheels\\3d\\1e\\6b\\02c0963570fce5e82f2d3903486e27999e9c47c926fd132fd3\n",
      "  Building wheel for docopt (setup.py): started\n",
      "  Building wheel for docopt (setup.py): finished with status 'done'\n",
      "  Stored in directory: C:\\Users\\Nouman Ahmad\\AppData\\Local\\pip\\Cache\\wheels\\9b\\04\\dd\\7daf4150b6d9b12949298737de9431a324d4b797ffd63f526e\n",
      "Successfully built datascience docopt\n",
      "Installing collected packages: branca, folium, coverage, docopt, coveralls, datascience\n",
      "Successfully installed branca-0.4.1 coverage-5.1 coveralls-2.0.0 datascience-0.15.4 docopt-0.6.2 folium-0.11.0\n"
     ]
    }
   ],
   "source": [
    "# !pip install datascience"
   ]
  },
  {
   "cell_type": "code",
   "execution_count": 1,
   "metadata": {},
   "outputs": [],
   "source": [
    "# Don't change this cell; just run it. \n",
    "import numpy as np\n",
    "from datascience import *\n",
    "\n",
    "# These lines do some fancy plotting magic.\n",
    "import matplotlib\n",
    "%matplotlib inline\n",
    "import matplotlib.pyplot as plt\n",
    "plt.style.use('fivethirtyeight')\n",
    "import warnings\n",
    "warnings.simplefilter('ignore', FutureWarning)"
   ]
  },
  {
   "cell_type": "markdown",
   "metadata": {},
   "source": [
    "# (40 Points) Hotel Inspections"
   ]
  },
  {
   "cell_type": "markdown",
   "metadata": {},
   "source": [
    "In this exercise, we will explore a dataset that includes the safety inspection scores for hotels. We will be interested in determining the average hotel score for the city from a random sample of the scores. The average hotel score is out of 100. We'll compare two methods for computing a confidence interval: the bootstrap resampling method, and an approximation based on the Central Limit Theorem."
   ]
  },
  {
   "cell_type": "code",
   "execution_count": 2,
   "metadata": {},
   "outputs": [
    {
     "data": {
      "text/html": [
       "<table border=\"1\" class=\"dataframe\">\n",
       "    <thead>\n",
       "        <tr>\n",
       "            <th>Inspection Date</th> <th>Score</th>\n",
       "        </tr>\n",
       "    </thead>\n",
       "    <tbody>\n",
       "        <tr>\n",
       "            <td>01/27/2014     </td> <td>100  </td>\n",
       "        </tr>\n",
       "        <tr>\n",
       "            <td>08/18/2016     </td> <td>85   </td>\n",
       "        </tr>\n",
       "        <tr>\n",
       "            <td>12/18/2014     </td> <td>72   </td>\n",
       "        </tr>\n",
       "        <tr>\n",
       "            <td>01/22/2015     </td> <td>95   </td>\n",
       "        </tr>\n",
       "        <tr>\n",
       "            <td>02/19/2015     </td> <td>100  </td>\n",
       "        </tr>\n",
       "        <tr>\n",
       "            <td>11/14/2013     </td> <td>85   </td>\n",
       "        </tr>\n",
       "        <tr>\n",
       "            <td>11/06/2014     </td> <td>100  </td>\n",
       "        </tr>\n",
       "        <tr>\n",
       "            <td>01/25/2016     </td> <td>89   </td>\n",
       "        </tr>\n",
       "        <tr>\n",
       "            <td>04/05/2016     </td> <td>76   </td>\n",
       "        </tr>\n",
       "        <tr>\n",
       "            <td>11/10/2015     </td> <td>75   </td>\n",
       "        </tr>\n",
       "    </tbody>\n",
       "</table>\n",
       "<p>... (19990 rows omitted)</p>"
      ],
      "text/plain": [
       "Inspection Date | Score\n",
       "01/27/2014      | 100\n",
       "08/18/2016      | 85\n",
       "12/18/2014      | 72\n",
       "01/22/2015      | 95\n",
       "02/19/2015      | 100\n",
       "11/14/2013      | 85\n",
       "11/06/2014      | 100\n",
       "01/25/2016      | 89\n",
       "04/05/2016      | 76\n",
       "11/10/2015      | 75\n",
       "... (19990 rows omitted)"
      ]
     },
     "execution_count": 2,
     "metadata": {},
     "output_type": "execute_result"
    }
   ],
   "source": [
    "hotel_scores = Table.read_table('hotel_inspection.csv')\n",
    "hotel_scores"
   ]
  },
  {
   "cell_type": "markdown",
   "metadata": {},
   "source": [
    "## 1. (10 Points) Data Exploration\n",
    "\n",
    "**a. (3 Points) Plot a histogram of the scores in the cell below.**"
   ]
  },
  {
   "cell_type": "code",
   "execution_count": 3,
   "metadata": {
    "deletable": false
   },
   "outputs": [
    {
     "data": {
      "image/png": "[encoded data removed]",
      "text/plain": [
       "<Figure size 432x288 with 1 Axes>"
      ]
     },
     "metadata": {
      "needs_background": "light"
     },
     "output_type": "display_data"
    }
   ],
   "source": [
    "# Write your code here.\n",
    "import matplotlib.pyplot as plt\n",
    "import numpy as np\n",
    "%matplotlib inline\n",
    "# np.random.seed(42)\n",
    "x = hotel_scores['Inspection Date']\n",
    "plt.hist(x, density=True, bins=100)  # `density=False` would make counts\n",
    "plt.ylabel('Probability')\n",
    "plt.xlabel('Data');"
   ]
  },
  {
   "cell_type": "code",
   "execution_count": 4,
   "metadata": {},
   "outputs": [
    {
     "data": {
      "image/png": "[encoded data removed]",
      "text/plain": [
       "<Figure size 432x288 with 1 Axes>"
      ]
     },
     "metadata": {
      "needs_background": "light"
     },
     "output_type": "display_data"
    }
   ],
   "source": [
    "# Write your code here.\n",
    "...\n",
    "import matplotlib.pyplot as plt\n",
    "import numpy as np\n",
    "%matplotlib inline\n",
    "# np.random.seed(42)\n",
    "x = hotel_scores['Score']\n",
    "plt.hist(x, density=True, bins=30)  # `density=False` would make counts\n",
    "plt.ylabel('Probability')\n",
    "plt.xlabel('Score');"
   ]
  },
  {
   "cell_type": "markdown",
   "metadata": {},
   "source": [
    "# **b. (3 Points) Calculate the *population mean*:**"
   ]
  },
  {
   "cell_type": "code",
   "execution_count": 5,
   "metadata": {},
   "outputs": [],
   "source": [
    "import pandas as pd\n",
    "df=pd.read_csv('hotel_inspection.csv')"
   ]
  },
  {
   "cell_type": "code",
   "execution_count": 6,
   "metadata": {},
   "outputs": [],
   "source": [
    "pop_mean=df.mean(skipna=True)"
   ]
  },
  {
   "cell_type": "code",
   "execution_count": 7,
   "metadata": {},
   "outputs": [
    {
     "data": {
      "text/plain": [
       "Score    91.42175\n",
       "dtype: float64"
      ]
     },
     "execution_count": 7,
     "metadata": {},
     "output_type": "execute_result"
    }
   ],
   "source": [
    "pop_mean"
   ]
  },
  {
   "cell_type": "markdown",
   "metadata": {},
   "source": [
    "Often it is impossible to find complete datasets like this.  Imagine we instead had access only to a random sample of 100 hotel inspections, called `hotel_sample`.  That table is created below. We are interested in using this sample to estimate the population mean."
   ]
  },
  {
   "cell_type": "code",
   "execution_count": 8,
   "metadata": {},
   "outputs": [
    {
     "data": {
      "text/html": [
       "<div>\n",
       "<style scoped>\n",
       "    .dataframe tbody tr th:only-of-type {\n",
       "        vertical-align: middle;\n",
       "    }\n",
       "\n",
       "    .dataframe tbody tr th {\n",
       "        vertical-align: top;\n",
       "    }\n",
       "\n",
       "    .dataframe thead th {\n",
       "        text-align: right;\n",
       "    }\n",
       "</style>\n",
       "<table border=\"1\" class=\"dataframe\">\n",
       "  <thead>\n",
       "    <tr style=\"text-align: right;\">\n",
       "      <th></th>\n",
       "      <th>Inspection Date</th>\n",
       "      <th>Score</th>\n",
       "    </tr>\n",
       "  </thead>\n",
       "  <tbody>\n",
       "    <tr>\n",
       "      <th>11456</th>\n",
       "      <td>11/21/2014</td>\n",
       "      <td>100</td>\n",
       "    </tr>\n",
       "    <tr>\n",
       "      <th>16528</th>\n",
       "      <td>01/05/2015</td>\n",
       "      <td>100</td>\n",
       "    </tr>\n",
       "    <tr>\n",
       "      <th>3253</th>\n",
       "      <td>08/17/2015</td>\n",
       "      <td>94</td>\n",
       "    </tr>\n",
       "    <tr>\n",
       "      <th>18614</th>\n",
       "      <td>08/22/2016</td>\n",
       "      <td>94</td>\n",
       "    </tr>\n",
       "    <tr>\n",
       "      <th>1544</th>\n",
       "      <td>09/18/2015</td>\n",
       "      <td>100</td>\n",
       "    </tr>\n",
       "  </tbody>\n",
       "</table>\n",
       "</div>"
      ],
      "text/plain": [
       "      Inspection Date  Score\n",
       "11456      11/21/2014    100\n",
       "16528      01/05/2015    100\n",
       "3253       08/17/2015     94\n",
       "18614      08/22/2016     94\n",
       "1544       09/18/2015    100"
      ]
     },
     "execution_count": 8,
     "metadata": {},
     "output_type": "execute_result"
    }
   ],
   "source": [
    "hotel_sample = df.sample(100,random_state=1)\n",
    "hotel_sample.head()"
   ]
  },
  {
   "cell_type": "markdown",
   "metadata": {},
   "source": [
    "**c. (4 Points) Plot a histogram of the *sample* scores in the cell below.**"
   ]
  },
  {
   "cell_type": "code",
   "execution_count": 9,
   "metadata": {
    "deletable": false
   },
   "outputs": [
    {
     "data": {
      "image/png": "[encoded data removed]",
      "text/plain": [
       "<Figure size 432x288 with 1 Axes>"
      ]
     },
     "metadata": {
      "needs_background": "light"
     },
     "output_type": "display_data"
    }
   ],
   "source": [
    "# Write your code here:\n",
    "x = hotel_scores['Inspection Date']\n",
    "plt.hist(x, density=True, bins=30)  # `density=False` would make counts\n",
    "plt.xticks(rotation='vertical')\n",
    "plt.ylabel('Probability')\n",
    "plt.xlabel('Data');"
   ]
  },
  {
   "cell_type": "markdown",
   "metadata": {},
   "source": [
    "Calculate the **sample mean**:"
   ]
  },
  {
   "cell_type": "code",
   "execution_count": 10,
   "metadata": {},
   "outputs": [],
   "source": [
    "sample_mean = df.mean()"
   ]
  },
  {
   "cell_type": "code",
   "execution_count": 11,
   "metadata": {},
   "outputs": [
    {
     "data": {
      "text/plain": [
       "Score    91.42175\n",
       "dtype: float64"
      ]
     },
     "execution_count": 11,
     "metadata": {},
     "output_type": "execute_result"
    }
   ],
   "source": [
    "sample_mean"
   ]
  },
  {
   "cell_type": "markdown",
   "metadata": {},
   "source": [
    "# 2. (15 Points) Bootstraping\n",
    "**a. (10 Points) Complete the function `bootstrap_scores` below. It should take no arguments. It should simulate drawing 5000  bootstrap samples (same size as the original sample) from `hotel_sample` and computing the mean hotel score in each sample.  It should return an array (resampled_means) of those 5000 bootstrap sample means.**"
   ]
  },
  {
   "cell_type": "code",
   "execution_count": 12,
   "metadata": {},
   "outputs": [
    {
     "data": {
      "text/plain": [
       "11456    100\n",
       "16528    100\n",
       "3253      94\n",
       "18614     94\n",
       "1544     100\n",
       "12568    100\n",
       "15497     87\n",
       "13987     94\n",
       "9598     100\n",
       "6668      92\n",
       "4244      97\n",
       "17420     90\n",
       "5781      84\n",
       "4570      96\n",
       "15716     93\n",
       "2401      88\n",
       "6295      56\n",
       "16204     97\n",
       "10057     90\n",
       "415       97\n",
       "5642      85\n",
       "8266      81\n",
       "8645      97\n",
       "7331      95\n",
       "8214      94\n",
       "10786     85\n",
       "3729      84\n",
       "6793      76\n",
       "4895      94\n",
       "3169      89\n",
       "        ... \n",
       "2782      95\n",
       "1104      89\n",
       "12143     72\n",
       "12031     95\n",
       "13667     97\n",
       "8561      96\n",
       "4385      91\n",
       "2784      84\n",
       "9119      97\n",
       "3198      82\n",
       "5674     100\n",
       "2055      98\n",
       "8018      96\n",
       "4        100\n",
       "7661      96\n",
       "1332      96\n",
       "7803      93\n",
       "17122     94\n",
       "11939     93\n",
       "8222      84\n",
       "14626     61\n",
       "72        88\n",
       "15675     97\n",
       "7076      89\n",
       "1463      85\n",
       "2277     100\n",
       "8069      84\n",
       "11148     93\n",
       "14480     87\n",
       "3894      94\n",
       "Name: Score, Length: 100, dtype: int64"
      ]
     },
     "execution_count": 12,
     "metadata": {},
     "output_type": "execute_result"
    }
   ],
   "source": [
    "pop =hotel_sample['Score']\n",
    "pop"
   ]
  },
  {
   "cell_type": "code",
   "execution_count": 13,
   "metadata": {},
   "outputs": [
    {
     "data": {
      "text/plain": [
       "array([ 85,  97, 100,  85,  87,  91,  94,  76,  99,  84,  95,  87,  84,\n",
       "        82,  95,  76, 100,  85,  90,  94,  97,  61, 100,  97,  97,  94,\n",
       "        71,  93,  97,  76,  95,  97,  79,  89, 100,  93,  76, 100,  90,\n",
       "        93,  86,  72,  86,  93,  94,  94,  91, 100,  84, 100,  93,  94,\n",
       "        95,  97,  93,  90,  84,  93,  90,  91,  98,  90,  97,  96,  93,\n",
       "        89,  87,  97,  94,  93,  93,  93,  75,  87,  87,  79, 100,  95,\n",
       "        98,  88,  84, 100,  82,  94,  94,  88,  86,  97,  90,  94,  93,\n",
       "        93,  81,  97, 100,  97,  88,  97,  97,  96,  94,  94,  89,  95,\n",
       "        97,  91, 100,  94,  85,  94,  96,  81,  96,  96,  84, 100,  93,\n",
       "        88,  97,  95,  95,  97, 100,  97,  93,  94,  97, 100,  80,  84,\n",
       "        96, 100,  96,  84,  96,  93,  89,  56,  97, 100,  84,  96,  61,\n",
       "       100,  88, 100,  96,  93,  91,  80,  94, 100,  93,  90,  90, 100,\n",
       "        84, 100,  97,  82,  94,  98,  97, 100,  89,  89,  97, 100,  97,\n",
       "        85,  96,  97, 100,  98,  72,  80,  97,  97,  94,  94,  96,  94,\n",
       "       100,  94,  98,  71,  95, 100, 100,  84,  93,  96,  84, 100,  95,\n",
       "        94,  83,  84,  93,  76, 100,  96,  95,  89,  97,  93,  71,  84,\n",
       "        84,  61,  84,  95,  97,  84,  93,  84,  97,  72,  93,  94,  94,\n",
       "        94,  85,  94,  85,  84,  91,  93,  97,  93,  75,  97,  90, 100,\n",
       "        86,  93,  97,  95,  97,  96,  84,  72,  96,  82,  93,  97,  98,\n",
       "        56,  96,  76,  94,  98,  91,  90,  72,  99,  90,  82, 100, 100,\n",
       "        84,  93,  95,  90, 100,  97,  88,  96,  95,  86,  72,  89,  88,\n",
       "        72, 100,  94,  86,  97,  89,  97,  93,  97,  94,  90,  72,  96,\n",
       "        96,  84,  89,  85,  93,  94, 100,  90,  95,  84,  97,  72,  93,\n",
       "        94], dtype=int64)"
      ]
     },
     "execution_count": 13,
     "metadata": {},
     "output_type": "execute_result"
    }
   ],
   "source": [
    "sample = np.random.choice(pop, size=300) #so n=300\n",
    "sample"
   ]
  },
  {
   "cell_type": "code",
   "execution_count": 14,
   "metadata": {
    "deletable": false,
    "manual_problem_id": "restaurant_bootstrap_means"
   },
   "outputs": [],
   "source": [
    "resampled_means =[]   #sample_mean = []\n",
    "def bootstrap_scores():\n",
    "    for i in range(5000):\n",
    "        resampled_mean = np.random.choice(sample, size=300)\n",
    "        resampled_means.append(resampled_mean.mean())\n",
    "    return resampled_means"
   ]
  },
  {
   "cell_type": "code",
   "execution_count": 15,
   "metadata": {},
   "outputs": [],
   "source": [
    "resampled_means=bootstrap_scores()"
   ]
  },
  {
   "cell_type": "code",
   "execution_count": 16,
   "metadata": {},
   "outputs": [
    {
     "data": {
      "text/plain": [
       "(array([   3.,    9.,   81.,  435., 1085., 1558., 1232.,  492.,   95.,\n",
       "          10.]),\n",
       " array([88.77666667, 89.16366667, 89.55066667, 89.93766667, 90.32466667,\n",
       "        90.71166667, 91.09866667, 91.48566667, 91.87266667, 92.25966667,\n",
       "        92.64666667]),\n",
       " <a list of 10 Patch objects>)"
      ]
     },
     "execution_count": 16,
     "metadata": {},
     "output_type": "execute_result"
    },
    {
     "data": {
      "image/png": "[encoded data removed]",
      "text/plain": [
       "<Figure size 432x288 with 1 Axes>"
      ]
     },
     "metadata": {
      "needs_background": "light"
     },
     "output_type": "display_data"
    }
   ],
   "source": [
    "plt.hist(resampled_means)"
   ]
  },
  {
   "cell_type": "markdown",
   "metadata": {
    "collapsed": true,
    "deletable": false
   },
   "source": []
  },
  {
   "cell_type": "markdown",
   "metadata": {},
   "source": [
    "Plot a histogram of the **bootstrap sample means**."
   ]
  },
  {
   "cell_type": "markdown",
   "metadata": {},
   "source": [
    "**b. (5 Points) Compute a 95 percent confidence interval for the average hotel score using the array `resampled_means`.**"
   ]
  },
  {
   "cell_type": "code",
   "execution_count": 17,
   "metadata": {
    "deletable": false,
    "manual_problem_id": "bootstrap_4"
   },
   "outputs": [
    {
     "name": "stdout",
     "output_type": "stream",
     "text": [
      "95% confidence interval for the average hotel score, computed by bootstrapping:\n",
      "( 89.99333333333334 , 1.0 )\n"
     ]
    }
   ],
   "source": [
    "# confidence intervals\n",
    "alpha = 0.95\n",
    "p = ((1.0-alpha)/2.0) * 100\n",
    "lower_bound = max(0.0, np.percentile(resampled_means, p))\n",
    "p = (alpha+((1.0-alpha)/2.0)) * 100\n",
    "upper_bound = min(1.0, np.percentile(resampled_means, p))\n",
    "print(\"95% confidence interval for the average hotel score, computed by bootstrapping:\\n(\",lower_bound, \",\", upper_bound, \")\")"
   ]
  },
  {
   "cell_type": "markdown",
   "metadata": {
    "deletable": false,
    "manual_problem_id": "bootstrap_6"
   },
   "source": []
  },
  {
   "cell_type": "markdown",
   "metadata": {},
   "source": [
    "## 3. (15 Points) Central Limit Theorum"
   ]
  },
  {
   "cell_type": "markdown",
   "metadata": {},
   "source": [
    "**a. (5 Points) Does the distribution of the  bootstrap sample mean scores(from part 2.a) look normally distributed? State \"yes\" or \"no\" and describe in one sentence why you should expect this result.**\n"
   ]
  },
  {
   "cell_type": "markdown",
   "metadata": {
    "deletable": false,
    "manual_problem_id": "bootstrap_5"
   },
   "source": [
    "*Write your answer here, replacing this text.*"
   ]
  },
  {
   "cell_type": "markdown",
   "metadata": {},
   "source": [
    "For the previous question, you'll need to recall two facts.\n",
    "1. If a group of numbers has a normal distribution, around 95% of them lie within 2 standard deviations of their mean.\n",
    "2. The Central Limit Theorem tells us the quantitative relationship between the following:\n",
    "    * the standard deviation of an array of numbers.\n",
    "    * the standard deviation of an array of means of samples taken from those numbers."
   ]
  },
  {
   "cell_type": "markdown",
   "metadata": {},
   "source": [
    "**b. (10 Points) Without using the array `resampled_means` or performing any new simulations, calculate 95 percent confidence interval for the average hotel score**\n",
    "\n",
    "You may use the following values to compute your result, but you should not perform additional sampling - think about how you can use the Central Limit Theorem to accomplish this. You can use sample standard deviation before as an approximation for population standard deviation. "
   ]
  },
  {
   "cell_type": "code",
   "execution_count": 18,
   "metadata": {},
   "outputs": [],
   "source": [
    "hotel_sample = hotel_scores.sample(100, with_replacement=False)"
   ]
  },
  {
   "cell_type": "code",
   "execution_count": 19,
   "metadata": {
    "deletable": false,
    "for_assignment_type": "student",
    "manual_problem_id": "bootstrap_7"
   },
   "outputs": [
    {
     "name": "stdout",
     "output_type": "stream",
     "text": [
      "95% confidence interval for the average hotel score, computed by a normal approximation:\n",
      "( 0.9429693818092346 , 0.00029392100987024605 )\n"
     ]
    }
   ],
   "source": [
    "sample_mean = np.mean(hotel_sample.column(1))\n",
    "sample_sd = np.std(hotel_sample.column(1))\n",
    "sample_size = hotel_sample.num_rows\n",
    "\n",
    "from scipy.stats import shapiro\n",
    "stat, p = shapiro(hotel_sample.column(1))\n",
    "\n",
    "lower_bound_normal = stat\n",
    "upper_bound_normal = p\n",
    "print(\"95% confidence interval for the average hotel score, computed by a normal approximation:\\n(\",lower_bound_normal, \",\", upper_bound_normal, \")\")"
   ]
  },
  {
   "cell_type": "markdown",
   "metadata": {},
   "source": [
    "This confidence interval should look very similar to the one you computed in **Question 1**. This is actually an interval around the `sample_mean` that would cover approximately 95% of the numbers in the `resampled_means` array."
   ]
  },
  {
   "cell_type": "markdown",
   "metadata": {},
   "source": [
    "# (40 Points) Learning to fly a drone"
   ]
  },
  {
   "cell_type": "markdown",
   "metadata": {},
   "source": [
    "You recently bought a drone and trying to practice flying it. You decided to challenge your self and mark a special landing zone in front of your house. You practice landing the drone on that mark. Since you are stuck at home, you try this landing excercise over 800 times. \n",
    "\n",
    "You document the landing coordinates of all your trials. You don't always land on the mark, many external factors affect your landing accuracy. "
   ]
  },
  {
   "cell_type": "markdown",
   "metadata": {},
   "source": [
    "## 1. (7 points) Exploring the data\n",
    "\n",
    "**Your landing coordinates are documented in coords.csv. Landing mark is at (0,0)**\n",
    "\n",
    "**a. (4 Points) Plot a scatter of the x, y coordinates of your landing positions. Add a marker at point (0, 0) for your landing mark.**"
   ]
  },
  {
   "cell_type": "code",
   "execution_count": 20,
   "metadata": {
    "ExecuteTime": {
     "end_time": "2020-05-01T22:07:56.273976Z",
     "start_time": "2020-05-01T22:07:56.264142Z"
    }
   },
   "outputs": [
    {
     "data": {
      "image/png": "[encoded data removed]",
      "text/plain": [
       "<Figure size 432x288 with 1 Axes>"
      ]
     },
     "metadata": {
      "needs_background": "light"
     },
     "output_type": "display_data"
    }
   ],
   "source": [
    "coords = Table.read_table(\"coords.csv\")\n",
    "# plot scatter of coords\n",
    "# add a marker for the landing pad at x=0, y=0. Look at the codes from Chapter 11 or other chapters to see examples of how you can mark (0,0)\n",
    "x=coords['x']\n",
    "y=coords['y']\n",
    "plt.scatter(x,y,color='blue')\n",
    "plt.show()"
   ]
  },
  {
   "cell_type": "code",
   "execution_count": 21,
   "metadata": {},
   "outputs": [
    {
     "data": {
      "text/html": [
       "<table border=\"1\" class=\"dataframe\">\n",
       "    <thead>\n",
       "        <tr>\n",
       "            <th>x</th> <th>y</th>\n",
       "        </tr>\n",
       "    </thead>\n",
       "    <tbody>\n",
       "        <tr>\n",
       "            <td>17.8207 </td> <td>-8.11736</td>\n",
       "        </tr>\n",
       "        <tr>\n",
       "            <td>4.465   </td> <td>2.91691 </td>\n",
       "        </tr>\n",
       "        <tr>\n",
       "            <td>11.5573 </td> <td>30.368  </td>\n",
       "        </tr>\n",
       "        <tr>\n",
       "            <td>-15.2723</td> <td>-6.95247</td>\n",
       "        </tr>\n",
       "        <tr>\n",
       "            <td>4.18479 </td> <td>-36.8061</td>\n",
       "        </tr>\n",
       "        <tr>\n",
       "            <td>35.2748 </td> <td>-32.7902</td>\n",
       "        </tr>\n",
       "        <tr>\n",
       "            <td>-9.62583</td> <td>-42.9628</td>\n",
       "        </tr>\n",
       "        <tr>\n",
       "            <td>-59.8439</td> <td>17.283  </td>\n",
       "        </tr>\n",
       "        <tr>\n",
       "            <td>3.65805 </td> <td>8.80531 </td>\n",
       "        </tr>\n",
       "        <tr>\n",
       "            <td>-28.2791</td> <td>50.522  </td>\n",
       "        </tr>\n",
       "    </tbody>\n",
       "</table>\n",
       "<p>... (815 rows omitted)</p>"
      ],
      "text/plain": [
       "x        | y\n",
       "17.8207  | -8.11736\n",
       "4.465    | 2.91691\n",
       "11.5573  | 30.368\n",
       "-15.2723 | -6.95247\n",
       "4.18479  | -36.8061\n",
       "35.2748  | -32.7902\n",
       "-9.62583 | -42.9628\n",
       "-59.8439 | 17.283\n",
       "3.65805  | 8.80531\n",
       "-28.2791 | 50.522\n",
       "... (815 rows omitted)"
      ]
     },
     "execution_count": 21,
     "metadata": {},
     "output_type": "execute_result"
    }
   ],
   "source": [
    "coords"
   ]
  },
  {
   "cell_type": "markdown",
   "metadata": {},
   "source": [
    "One time, something strange happened and you landed very far from the landing mark, specifically at point (80.59, 30.91). You don't understand if it was a strange incident such as a malfunction of the drone. \n",
    "\n",
    "\n",
    "**b. (3 Points) Add marker to this point on your previous graph**"
   ]
  },
  {
   "cell_type": "code",
   "execution_count": 22,
   "metadata": {},
   "outputs": [
    {
     "data": {
      "image/png": "[encoded data removed]",
      "text/plain": [
       "<Figure size 432x288 with 1 Axes>"
      ]
     },
     "metadata": {
      "needs_background": "light"
     },
     "output_type": "display_data"
    }
   ],
   "source": [
    "strange_landing = make_array(80.59, 30.91)\n",
    "# recreate the previous plot and add a special marker for this strange landing\n",
    "s = strange_landing\n",
    "plt.scatter(x, y, s, c=\"r\", alpha=0.5, marker=r'$\\star$',\n",
    "            label=\"Marked\")\n",
    "\n",
    "plt.xlabel(\"x\")\n",
    "plt.ylabel(\"y\")\n",
    "plt.legend(loc=2)\n",
    "plt.show()"
   ]
  },
  {
   "cell_type": "markdown",
   "metadata": {},
   "source": [
    "## 2. (7 points) hypothesis testing: \n",
    "\n",
    "**Given what you learned in CS240 you'd like to test if this was indeed a strange incident. To do this you'll use hypothesis testing.  We've written down an alternative hypothesis below.  What is a reasonable null hypothesis?**"
   ]
  },
  {
   "cell_type": "markdown",
   "metadata": {
    "deletable": false,
    "for_assignment_type": "student",
    "manual_grade": true,
    "manual_problem_id": "landing_1"
   },
   "source": [
    "# **Null hypothesis:** .. *In inferential statistics, the null hypothesis is a general statement or default position that there is no relationship between two measured phenomena, or no association among groups\n",
    "In other words it is a basic assumption or made based on domain or problem knowledge..* ..\n",
    "\n",
    "**Alternative hypothesis:** This landing was special; its location was a draw from some other distribution, not the distribution from which the other 1100 landing locations were drawn.\n",
    "\n",
    "The alternative hypothesis is the hypothesis used in hypothesis testing that is contrary to the null hypothesis. It is usually taken to be that the observations are the result of a real effect (with some amount of chance variation superposed)"
   ]
  },
  {
   "cell_type": "markdown",
   "metadata": {},
   "source": [
    "## 3. (6 points) What's a good test statistic for this hypothesis test? \n",
    "\n",
    "A good test statistic would be small if the null hypothesis is true, and large otherwise. If we want to compare landings, we want to see *how far* each landing is from some *reference point*, so we can compare all landings from the same point.\n",
    "\n",
    "\n",
    "You choose the distance from each landing point to the landing mark (0, 0) as your test statistic. \n",
    "\n",
    "**Write a function that given x, y calculates the test statisitc at these coordinates.**"
   ]
  },
  {
   "cell_type": "code",
   "execution_count": 23,
   "metadata": {},
   "outputs": [
    {
     "name": "stdout",
     "output_type": "stream",
     "text": [
      "0.8406023780348534\n",
      "accept null hypothesis\n"
     ]
    }
   ],
   "source": [
    "import pandas as pd\n",
    "from scipy import stats\n",
    "df = pd.read_csv(\"coords.csv\")\n",
    "df[['x','y']].describe()\n",
    "ttest,pval = stats.ttest_rel(df['x'], df['y'])\n",
    "print(pval)\n",
    "if pval<0.05:\n",
    "    print(\"reject null hypothesis\")\n",
    "else:\n",
    "    print(\"accept null hypothesis\")"
   ]
  },
  {
   "cell_type": "code",
   "execution_count": 24,
   "metadata": {},
   "outputs": [
    {
     "name": "stdout",
     "output_type": "stream",
     "text": [
      "t=nan, p=nan\n"
     ]
    },
    {
     "name": "stderr",
     "output_type": "stream",
     "text": [
      "C:\\Users\\Nouman Ahmad\\Anaconda3\\lib\\site-packages\\numpy\\core\\fromnumeric.py:3367: RuntimeWarning: Degrees of freedom <= 0 for slice\n",
      "  **kwargs)\n",
      "C:\\Users\\Nouman Ahmad\\Anaconda3\\lib\\site-packages\\numpy\\core\\_methods.py:132: RuntimeWarning: invalid value encountered in double_scalars\n",
      "  ret = ret.dtype.type(ret / rcount)\n",
      "C:\\Users\\Nouman Ahmad\\Anaconda3\\lib\\site-packages\\scipy\\stats\\_distn_infrastructure.py:877: RuntimeWarning: invalid value encountered in greater\n",
      "  return (self.a < x) & (x < self.b)\n",
      "C:\\Users\\Nouman Ahmad\\Anaconda3\\lib\\site-packages\\scipy\\stats\\_distn_infrastructure.py:877: RuntimeWarning: invalid value encountered in less\n",
      "  return (self.a < x) & (x < self.b)\n",
      "C:\\Users\\Nouman Ahmad\\Anaconda3\\lib\\site-packages\\scipy\\stats\\_distn_infrastructure.py:1831: RuntimeWarning: invalid value encountered in less_equal\n",
      "  cond2 = cond0 & (x <= self.a)\n"
     ]
    }
   ],
   "source": [
    "\n",
    "from scipy.stats import ttest_ind\n",
    "# seed the random number generator\n",
    "# compare samples\n",
    "stat, p = ttest_ind(1, 2)\n",
    "print('t=%.3f, p=%.3f' % (stat, p))"
   ]
  },
  {
   "cell_type": "code",
   "execution_count": 25,
   "metadata": {
    "deletable": false,
    "manual_grade": true,
    "manual_problem_id": "landing_3"
   },
   "outputs": [],
   "source": [
    "# Student's t-test for independent samples\n",
    "from numpy.random import seed\n",
    "from numpy.random import randn\n",
    "from scipy.stats import ttest_ind\n",
    "# seed the random number generator\n",
    "seed(1)\n",
    "# generate two independent samples\n",
    "data1 = 5 * randn(100) + 50\n",
    "data2 = 5 * randn(100) + 51\n",
    "# # compare samples\n",
    "# stat, p = ttest_ind(data1, data2)\n",
    "# print('t=%.3f, p=%.3f' % (stat, p))"
   ]
  },
  {
   "cell_type": "code",
   "execution_count": 26,
   "metadata": {},
   "outputs": [],
   "source": [
    "def landing_test_statistic(x_coordinate, y_coordinate):\n",
    "    distance=make_array(x_coordinate, y_coordinate)\n",
    "    distance=abs(((distance.item(0)**2)+(distance.item(1)**2))**(1/2))\n",
    "    return distance"
   ]
  },
  {
   "cell_type": "code",
   "execution_count": 27,
   "metadata": {},
   "outputs": [
    {
     "data": {
      "text/plain": [
       "74.7101938778035"
      ]
     },
     "execution_count": 27,
     "metadata": {},
     "output_type": "execute_result"
    }
   ],
   "source": [
    "d1=landing_test_statistic(data1,data2)\n",
    "d1"
   ]
  },
  {
   "cell_type": "markdown",
   "metadata": {},
   "source": [
    "## 4. (20 points) We are going to compute the p-value using your test statistic.  \n",
    "\n",
    "**a. (4 Points) First let's calculate the test statistic for our strange landing point (the landing point from 1.b) using the function you created in the previous question.**"
   ]
  },
  {
   "cell_type": "code",
   "execution_count": 28,
   "metadata": {
    "ExecuteTime": {
     "end_time": "2020-05-01T22:20:49.429981Z",
     "start_time": "2020-05-01T22:20:49.425822Z"
    }
   },
   "outputs": [
    {
     "name": "stdout",
     "output_type": "stream",
     "text": [
      "t=-2.262\n"
     ]
    }
   ],
   "source": [
    "# compare samples\n",
    "stat, p = ttest_ind(data1, data2)\n",
    "print('t=%.3f' % (stat))"
   ]
  },
  {
   "cell_type": "markdown",
   "metadata": {},
   "source": [
    "**b. (6 Points) Now we are going to find the test stat for all the landing points in our dataset. Use the function you created to calculate the test stat for all x,y values.**"
   ]
  },
  {
   "cell_type": "code",
   "execution_count": 29,
   "metadata": {
    "ExecuteTime": {
     "end_time": "2020-05-01T22:24:25.908084Z",
     "start_time": "2020-05-01T22:24:25.869514Z"
    }
   },
   "outputs": [
    {
     "data": {
      "text/plain": [
       "0.2011865254865627"
      ]
     },
     "execution_count": 29,
     "metadata": {},
     "output_type": "execute_result"
    }
   ],
   "source": [
    "all_points_test_stats = make_array()\n",
    "# calculate the test stats for all landing points and store them to the array all_points_test_stats\n",
    "import pandas as pd\n",
    "from scipy import stats\n",
    "df = pd.read_csv(\"coords.csv\")\n",
    "df[['x','y']].describe()\n",
    "all_points_test_stats,all_point_pval = stats.ttest_rel(df['x'], df['y'])\n",
    "all_points_test_stats"
   ]
  },
  {
   "cell_type": "markdown",
   "metadata": {},
   "source": [
    "**c. (6 Points) Now, to calculate the p-value for our strange landing point, we are going to count the times where our landing coordinates' test stat were larger than or equal to our strange test stat.**\n",
    "\n",
    "**Dividing this number with the total number of landings would give us the p-value.**"
   ]
  },
  {
   "cell_type": "code",
   "execution_count": 30,
   "metadata": {
    "ExecuteTime": {
     "end_time": "2020-05-01T22:27:32.997836Z",
     "start_time": "2020-05-01T22:27:32.990770Z"
    }
   },
   "outputs": [
    {
     "name": "stdout",
     "output_type": "stream",
     "text": [
      "p_value_sample=0.025, all_point_pval=0.841\n"
     ]
    }
   ],
   "source": [
    "# you will be using all_points_test_stats and strange_test_stat to calculate the p-value\n",
    "print('p_value_sample=%.3f, all_point_pval=%.3f' % (p,all_point_pval))"
   ]
  },
  {
   "cell_type": "markdown",
   "metadata": {
    "deletable": false,
    "for_assignment_type": "student",
    "manual_problem_id": "landing_4"
   },
   "source": [
    "**d. (4 Points) Was your landing strange after all? Briefly discuss by comparing with the commonly used p-value significance levels**"
   ]
  },
  {
   "cell_type": "markdown",
   "metadata": {
    "manual_problem_id": "bootstrap_5"
   },
   "source": [
    "*Write your answer here, replacing this text.*"
   ]
  },
  {
   "cell_type": "markdown",
   "metadata": {},
   "source": [
    "# (20 Points) Correlations"
   ]
  },
  {
   "cell_type": "markdown",
   "metadata": {},
   "source": [
    "In this exercise you will be exploring the relation between peoples' weights and heights. "
   ]
  },
  {
   "cell_type": "code",
   "execution_count": 31,
   "metadata": {},
   "outputs": [
    {
     "data": {
      "text/html": [
       "<table border=\"1\" class=\"dataframe\">\n",
       "    <thead>\n",
       "        <tr>\n",
       "            <th>Height</th> <th>Weight</th>\n",
       "        </tr>\n",
       "    </thead>\n",
       "    <tbody>\n",
       "        <tr>\n",
       "            <td>73.847 </td> <td>241.894</td>\n",
       "        </tr>\n",
       "        <tr>\n",
       "            <td>68.7819</td> <td>162.31 </td>\n",
       "        </tr>\n",
       "        <tr>\n",
       "            <td>74.1101</td> <td>212.741</td>\n",
       "        </tr>\n",
       "        <tr>\n",
       "            <td>71.731 </td> <td>220.042</td>\n",
       "        </tr>\n",
       "        <tr>\n",
       "            <td>69.8818</td> <td>206.35 </td>\n",
       "        </tr>\n",
       "        <tr>\n",
       "            <td>67.253 </td> <td>152.212</td>\n",
       "        </tr>\n",
       "        <tr>\n",
       "            <td>68.7851</td> <td>183.928</td>\n",
       "        </tr>\n",
       "        <tr>\n",
       "            <td>68.3485</td> <td>167.971</td>\n",
       "        </tr>\n",
       "        <tr>\n",
       "            <td>67.0189</td> <td>175.929</td>\n",
       "        </tr>\n",
       "        <tr>\n",
       "            <td>63.4565</td> <td>156.4  </td>\n",
       "        </tr>\n",
       "    </tbody>\n",
       "</table>\n",
       "<p>... (9990 rows omitted)</p>"
      ],
      "text/plain": [
       "Height  | Weight\n",
       "73.847  | 241.894\n",
       "68.7819 | 162.31\n",
       "74.1101 | 212.741\n",
       "71.731  | 220.042\n",
       "69.8818 | 206.35\n",
       "67.253  | 152.212\n",
       "68.7851 | 183.928\n",
       "68.3485 | 167.971\n",
       "67.0189 | 175.929\n",
       "63.4565 | 156.4\n",
       "... (9990 rows omitted)"
      ]
     },
     "execution_count": 31,
     "metadata": {},
     "output_type": "execute_result"
    }
   ],
   "source": [
    "health = Table.read_table(\"weight-height.csv\")\n",
    "health"
   ]
  },
  {
   "cell_type": "markdown",
   "metadata": {},
   "source": [
    "**a. (6 Points) Make a scatter plot of the data.  Put weight on the vertical axis**"
   ]
  },
  {
   "cell_type": "code",
   "execution_count": 32,
   "metadata": {},
   "outputs": [
    {
     "data": {
      "image/png": "[encoded data removed]",
      "text/plain": [
       "<Figure size 432x288 with 1 Axes>"
      ]
     },
     "metadata": {
      "needs_background": "light"
     },
     "output_type": "display_data"
    }
   ],
   "source": [
    "x=health['Height']\n",
    "y=health['Weight']\n",
    "plt.scatter(x,y,color='blue')\n",
    "plt.xlabel('Height',fontsize=14)\n",
    "plt.ylabel('Weight',fontsize=14)\n",
    "plt.show()"
   ]
  },
  {
   "cell_type": "markdown",
   "metadata": {},
   "source": [
    "**b. (4 Points) Look at the scatter plot. Are height and weight roughly linearly related? Indicate which of the below correlations strengths are most probably and  briefly explain your answer**\n",
    "- 1\n",
    "- 0\n",
    "- -1"
   ]
  },
  {
   "cell_type": "code",
   "execution_count": 33,
   "metadata": {},
   "outputs": [],
   "source": [
    "r = np.corrcoef(x, y)"
   ]
  },
  {
   "cell_type": "code",
   "execution_count": 34,
   "metadata": {},
   "outputs": [
    {
     "data": {
      "text/plain": [
       "array([[1.       , 0.9247563],\n",
       "       [0.9247563, 1.       ]])"
      ]
     },
     "execution_count": 34,
     "metadata": {},
     "output_type": "execute_result"
    }
   ],
   "source": [
    "r"
   ]
  },
  {
   "cell_type": "code",
   "execution_count": 40,
   "metadata": {},
   "outputs": [
    {
     "data": {
      "text/plain": [
       "(0.9247562987378062, 0.0)"
      ]
     },
     "execution_count": 40,
     "metadata": {},
     "output_type": "execute_result"
    }
   ],
   "source": [
    "import scipy.stats\n",
    "scipy.stats.pearsonr(x, y)    # Pearson's r"
   ]
  },
  {
   "cell_type": "code",
   "execution_count": 41,
   "metadata": {},
   "outputs": [
    {
     "data": {
      "text/plain": [
       "SpearmanrResult(correlation=0.9257076644210767, pvalue=0.0)"
      ]
     },
     "execution_count": 41,
     "metadata": {},
     "output_type": "execute_result"
    }
   ],
   "source": [
    "scipy.stats.spearmanr(x, y)   # Spearman's rho"
   ]
  },
  {
   "cell_type": "code",
   "execution_count": 42,
   "metadata": {},
   "outputs": [
    {
     "data": {
      "text/plain": [
       "KendalltauResult(correlation=0.7590901890189019, pvalue=0.0)"
      ]
     },
     "execution_count": 42,
     "metadata": {},
     "output_type": "execute_result"
    }
   ],
   "source": [
    "scipy.stats.kendalltau(x, y)  # Kendall's tau"
   ]
  },
  {
   "cell_type": "markdown",
   "metadata": {},
   "source": [
    "# You use the p-value in statistical methods when you’re testing a hypothesis. The p-value is an important measure that requires in-depth knowledge of probability and statistics to interpret. To learn more about them, you can read about the basics or check out a data scientist’s explanation of p-values.\n",
    "\n",
    "You can extract the p-values and the correlation coefficients with their indices, as the items of tuples:"
   ]
  },
  {
   "cell_type": "code",
   "execution_count": 43,
   "metadata": {},
   "outputs": [
    {
     "data": {
      "text/plain": [
       "0.9247562987378062"
      ]
     },
     "execution_count": 43,
     "metadata": {},
     "output_type": "execute_result"
    }
   ],
   "source": [
    "scipy.stats.pearsonr(x, y)[0]    # Pearson's r"
   ]
  },
  {
   "cell_type": "code",
   "execution_count": 44,
   "metadata": {},
   "outputs": [
    {
     "data": {
      "text/plain": [
       "0.9257076644210767"
      ]
     },
     "execution_count": 44,
     "metadata": {},
     "output_type": "execute_result"
    }
   ],
   "source": [
    "scipy.stats.spearmanr(x, y)[0]   # Spearman's rho"
   ]
  },
  {
   "cell_type": "code",
   "execution_count": 45,
   "metadata": {},
   "outputs": [
    {
     "data": {
      "text/plain": [
       "0.7590901890189019"
      ]
     },
     "execution_count": 45,
     "metadata": {},
     "output_type": "execute_result"
    }
   ],
   "source": [
    "scipy.stats.kendalltau(x, y)[0]  # Kendall's tau"
   ]
  },
  {
   "cell_type": "code",
   "execution_count": 54,
   "metadata": {},
   "outputs": [],
   "source": [
    "x = pd.Series(x)"
   ]
  },
  {
   "cell_type": "code",
   "execution_count": 55,
   "metadata": {},
   "outputs": [],
   "source": [
    "y = pd.Series(y)"
   ]
  },
  {
   "cell_type": "code",
   "execution_count": 56,
   "metadata": {},
   "outputs": [
    {
     "data": {
      "text/plain": [
       "0.9247562987378072"
      ]
     },
     "execution_count": 56,
     "metadata": {},
     "output_type": "execute_result"
    }
   ],
   "source": [
    "x.corr(y)"
   ]
  },
  {
   "cell_type": "code",
   "execution_count": 57,
   "metadata": {},
   "outputs": [
    {
     "data": {
      "text/plain": [
       "0.9247562987378073"
      ]
     },
     "execution_count": 57,
     "metadata": {},
     "output_type": "execute_result"
    }
   ],
   "source": [
    "y.corr(x)"
   ]
  },
  {
   "cell_type": "code",
   "execution_count": 58,
   "metadata": {},
   "outputs": [
    {
     "data": {
      "text/plain": [
       "0.9257076644210767"
      ]
     },
     "execution_count": 58,
     "metadata": {},
     "output_type": "execute_result"
    }
   ],
   "source": [
    "x.corr(y, method='spearman')  # Spearman's rho"
   ]
  },
  {
   "cell_type": "code",
   "execution_count": 59,
   "metadata": {},
   "outputs": [
    {
     "data": {
      "text/plain": [
       "0.7590901890189019"
      ]
     },
     "execution_count": 59,
     "metadata": {},
     "output_type": "execute_result"
    }
   ],
   "source": [
    "x.corr(y, method='kendall')   # Kendall's tau"
   ]
  },
  {
   "cell_type": "markdown",
   "metadata": {},
   "source": [
    "# Here are some important facts about the Pearson correlation coefficient:\n",
    "\n",
    "The Pearson correlation coefficient can take on any real value in the range −1 ≤ r ≤ 1.\n",
    "\n",
    "The maximum value r = 1 corresponds to the case when there’s a perfect positive linear relationship between x and y. In other words, larger x values correspond to larger y values and vice versa.\n",
    "\n",
    "The value r > 0 indicates positive correlation between x and y.\n",
    "\n",
    "The value r = 0 corresponds to the case when x and y are independent.\n",
    "\n",
    "The value r < 0 indicates negative correlation between x and y.\n",
    "\n",
    "The minimal value r = −1 corresponds to the case when there’s a perfect negative linear relationship between x and y. In other words, larger x values correspond to smaller y values and vice versa.\n",
    "\n",
    "The above facts can be summed up in the following table:\n",
    "\n",
    "Pearson’s r Value\tCorrelation Between x and y\n",
    "equal to 1\tperfect positive linear relationship\n",
    "greater than 0\tpositive correlation\n",
    "equal to 0\tindependent\n",
    "less than 0\tnegative correlation\n",
    "equal to -1\tperfect negative linear relationship"
   ]
  },
  {
   "cell_type": "markdown",
   "metadata": {},
   "source": [
    "*Write your answer here, replacing this text.*"
   ]
  },
  {
   "cell_type": "markdown",
   "metadata": {},
   "source": [
    "**c. (5 Points) We'd next like to see the data in standard units.  Recall that, if `nums` is an array of numbers, then..**\n",
    "\n",
    "    (nums - np.mean(nums)) / np.std(nums)\n",
    "\n",
    "**...is an array of those numbers in standard units.**"
   ]
  },
  {
   "cell_type": "code",
   "execution_count": 94,
   "metadata": {},
   "outputs": [],
   "source": [
    "weight = health['Weight']\n",
    "height = health['Height']"
   ]
  },
  {
   "cell_type": "code",
   "execution_count": 108,
   "metadata": {},
   "outputs": [
    {
     "data": {
      "text/plain": [
       "array([236.86533902, 157.28224832, 207.71263142, ..., 123.44709462,\n",
       "       158.82423712, 108.62087852])"
      ]
     },
     "execution_count": 108,
     "metadata": {},
     "output_type": "execute_result"
    }
   ],
   "source": [
    "weight_std_unit= (weight-np.mean(weight)/np.std(weight))\n",
    "weight_std_unit"
   ]
  },
  {
   "cell_type": "code",
   "execution_count": 109,
   "metadata": {},
   "outputs": [
    {
     "data": {
      "text/plain": [
       "array([56.59675236, 51.53163939, 56.85984073, ..., 46.61772755,\n",
       "       51.78397847, 44.69398122])"
      ]
     },
     "execution_count": 109,
     "metadata": {},
     "output_type": "execute_result"
    }
   ],
   "source": [
    "height_std_unit = (height-np.mean(height)/np.std(height))\n",
    "height_std_unit"
   ]
  },
  {
   "cell_type": "code",
   "execution_count": 110,
   "metadata": {},
   "outputs": [],
   "source": [
    "weight_mean =np.mean(weight)\n",
    "weight_std = np.std(weight)\n",
    "height_mean =np.mean(height)\n",
    "height_std = np.std(height)\n",
    "\n",
    "standard_health = Table().with_columns(\n",
    "    \"weight (standard units)\" , str(weight_std_unit),\n",
    "    \"height (standard units)\" ,str(height_std_unit))"
   ]
  },
  {
   "cell_type": "code",
   "execution_count": 111,
   "metadata": {},
   "outputs": [
    {
     "data": {
      "text/html": [
       "<table border=\"1\" class=\"dataframe\">\n",
       "    <thead>\n",
       "        <tr>\n",
       "            <th>weight (standard units)</th> <th>height (standard units)</th>\n",
       "        </tr>\n",
       "    </thead>\n",
       "    <tbody>\n",
       "        <tr>\n",
       "            <td>[236.86533902 157.28224832 207.71263142 ... 123.44709462 ...</td> <td>[56.59675236 51.53163939 56.85984073 ... 46.61772755 51. ...</td>\n",
       "        </tr>\n",
       "    </tbody>\n",
       "</table>"
      ],
      "text/plain": [
       "weight (standard units)                                      | height (standard units)\n",
       "[236.86533902 157.28224832 207.71263142 ... 123.44709462 ... | [56.59675236 51.53163939 56.85984073 ... 46.61772755 51. ..."
      ]
     },
     "execution_count": 111,
     "metadata": {},
     "output_type": "execute_result"
    }
   ],
   "source": [
    "standard_health"
   ]
  },
  {
   "cell_type": "markdown",
   "metadata": {},
   "source": [
    "**d. (5 Points) Calculate the correlation score between the two variables**\n",
    "\n",
    "Hint: Calculate this by using the data in the standard units."
   ]
  },
  {
   "cell_type": "code",
   "execution_count": 113,
   "metadata": {},
   "outputs": [
    {
     "name": "stdout",
     "output_type": "stream",
     "text": [
      "Pearsons correlation: 0.925\n"
     ]
    }
   ],
   "source": [
    "from scipy.stats import pearsonr\n",
    "corr, _ = pearsonr(weight_std_unit, height_std_unit)\n",
    "print('Pearsons correlation: %.3f' % corr)"
   ]
  }
 ],
 "metadata": {
  "kernelspec": {
   "display_name": "Python 3",
   "language": "python",
   "name": "python3"
  },
  "language_info": {
   "codemirror_mode": {
    "name": "ipython",
    "version": 3
   },
   "file_extension": ".py",
   "mimetype": "text/x-python",
   "name": "python",
   "nbconvert_exporter": "python",
   "pygments_lexer": "ipython3",
   "version": "3.7.3"
  },
  "toc": {
   "base_numbering": 1,
   "nav_menu": {},
   "number_sections": true,
   "sideBar": true,
   "skip_h1_title": false,
   "title_cell": "Table of Contents",
   "title_sidebar": "Contents",
   "toc_cell": false,
   "toc_position": {},
   "toc_section_display": true,
   "toc_window_display": false
  }
 },
 "nbformat": 4,
 "nbformat_minor": 4
}
