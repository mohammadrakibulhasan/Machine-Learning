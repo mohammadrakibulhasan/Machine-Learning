{
 "cells": [
  {
   "cell_type": "markdown",
   "metadata": {},
   "source": [
    "# We will use the python libraries Tensorflow and numpy to create a basic machine learning model."
   ]
  },
  {
   "cell_type": "code",
   "execution_count": 1,
   "metadata": {},
   "outputs": [],
   "source": [
    "import tensorflow as tf\n",
    "import numpy as np"
   ]
  },
  {
   "cell_type": "markdown",
   "metadata": {},
   "source": [
    "# now we will create a sample training set. The input data is in miles and the output data is in kilometres. the model will predict how many kilometres is equivalent to a given number of miles\n"
   ]
  },
  {
   "cell_type": "code",
   "execution_count": 2,
   "metadata": {},
   "outputs": [],
   "source": [
    "input =np.array([1,2,3,4,5,6,7,8,9,10], dtype=float)\n",
    "output =np.array([1.6,3.2,4.8,6.4,8.0,9.7,11.3,12.9,14.5,16.1],dtype=float)"
   ]
  },
  {
   "cell_type": "markdown",
   "metadata": {},
   "source": [
    "# Lets create the model!!!!!!!!!!!!!!1 this is a neural network built using three layers"
   ]
  },
  {
   "cell_type": "code",
   "execution_count": 3,
   "metadata": {},
   "outputs": [
    {
     "name": "stdout",
     "output_type": "stream",
     "text": [
      "WARNING:tensorflow:From C:\\Users\\Nouman Ahmad\\Anaconda3\\lib\\site-packages\\tensorflow\\python\\ops\\init_ops.py:1251: calling VarianceScaling.__init__ (from tensorflow.python.ops.init_ops) with dtype is deprecated and will be removed in a future version.\n",
      "Instructions for updating:\n",
      "Call initializer instance with the dtype argument instead of passing it to the constructor\n"
     ]
    }
   ],
   "source": [
    "model = tf.keras.models.Sequential()\n",
    "model.add(tf.keras.layers.Dense(units=1,input_shape=[1]))\n",
    "model.add(tf.keras.layers.Dense(units=1,input_shape=[1]))\n",
    "model.add(tf.keras.layers.Dense(units=1,input_shape=[1]))"
   ]
  },
  {
   "cell_type": "code",
   "execution_count": 4,
   "metadata": {},
   "outputs": [
    {
     "name": "stdout",
     "output_type": "stream",
     "text": [
      "Model: \"sequential\"\n",
      "_________________________________________________________________\n",
      "Layer (type)                 Output Shape              Param #   \n",
      "=================================================================\n",
      "dense (Dense)                (None, 1)                 2         \n",
      "_________________________________________________________________\n",
      "dense_1 (Dense)              (None, 1)                 2         \n",
      "_________________________________________________________________\n",
      "dense_2 (Dense)              (None, 1)                 2         \n",
      "=================================================================\n",
      "Total params: 6\n",
      "Trainable params: 6\n",
      "Non-trainable params: 0\n",
      "_________________________________________________________________\n"
     ]
    }
   ],
   "source": [
    "model.summary()"
   ]
  },
  {
   "cell_type": "markdown",
   "metadata": {},
   "source": [
    "# wE are now compiling and training the our model.we will let it run for 10,000 epochs.."
   ]
  },
  {
   "cell_type": "code",
   "execution_count": 5,
   "metadata": {},
   "outputs": [
    {
     "name": "stdout",
     "output_type": "stream",
     "text": [
      "Epoch 1/100\n",
      "10/10 [==============================] - 1s 105ms/sample - loss: 67.7156\n",
      "Epoch 2/100\n",
      "10/10 [==============================] - 0s 350us/sample - loss: 67.0205\n",
      "Epoch 3/100\n",
      "10/10 [==============================] - 0s 350us/sample - loss: 66.3302\n",
      "Epoch 4/100\n",
      "10/10 [==============================] - 0s 751us/sample - loss: 65.6446\n",
      "Epoch 5/100\n",
      "10/10 [==============================] - 0s 801us/sample - loss: 64.9639\n",
      "Epoch 6/100\n",
      "10/10 [==============================] - 0s 500us/sample - loss: 64.2881\n",
      "Epoch 7/100\n",
      "10/10 [==============================] - 0s 400us/sample - loss: 63.6172\n",
      "Epoch 8/100\n",
      "10/10 [==============================] - 0s 1ms/sample - loss: 62.9513\n",
      "Epoch 9/100\n",
      "10/10 [==============================] - 0s 350us/sample - loss: 62.2904\n",
      "Epoch 10/100\n",
      "10/10 [==============================] - 0s 500us/sample - loss: 61.6346\n",
      "Epoch 11/100\n",
      "10/10 [==============================] - 0s 300us/sample - loss: 60.9839\n",
      "Epoch 12/100\n",
      "10/10 [==============================] - 0s 550us/sample - loss: 60.3384\n",
      "Epoch 13/100\n",
      "10/10 [==============================] - 0s 350us/sample - loss: 59.6981\n",
      "Epoch 14/100\n",
      "10/10 [==============================] - 0s 400us/sample - loss: 59.0630\n",
      "Epoch 15/100\n",
      "10/10 [==============================] - 0s 1ms/sample - loss: 58.4333\n",
      "Epoch 16/100\n",
      "10/10 [==============================] - 0s 300us/sample - loss: 57.8088\n",
      "Epoch 17/100\n",
      "10/10 [==============================] - 0s 300us/sample - loss: 57.1897\n",
      "Epoch 18/100\n",
      "10/10 [==============================] - 0s 500us/sample - loss: 56.5759\n",
      "Epoch 19/100\n",
      "10/10 [==============================] - 0s 550us/sample - loss: 55.9674\n",
      "Epoch 20/100\n",
      "10/10 [==============================] - 0s 450us/sample - loss: 55.3644\n",
      "Epoch 21/100\n",
      "10/10 [==============================] - 0s 500us/sample - loss: 54.7667\n",
      "Epoch 22/100\n",
      "10/10 [==============================] - 0s 1ms/sample - loss: 54.1745\n",
      "Epoch 23/100\n",
      "10/10 [==============================] - 0s 400us/sample - loss: 53.5876\n",
      "Epoch 24/100\n",
      "10/10 [==============================] - 0s 300us/sample - loss: 53.0062\n",
      "Epoch 25/100\n",
      "10/10 [==============================] - 0s 400us/sample - loss: 52.4301\n",
      "Epoch 26/100\n",
      "10/10 [==============================] - 0s 450us/sample - loss: 51.8594\n",
      "Epoch 27/100\n",
      "10/10 [==============================] - 0s 400us/sample - loss: 51.2942\n",
      "Epoch 28/100\n",
      "10/10 [==============================] - 0s 450us/sample - loss: 50.7343\n",
      "Epoch 29/100\n",
      "10/10 [==============================] - 0s 450us/sample - loss: 50.1799\n",
      "Epoch 30/100\n",
      "10/10 [==============================] - 0s 4ms/sample - loss: 49.6307\n",
      "Epoch 31/100\n",
      "10/10 [==============================] - 0s 300us/sample - loss: 49.0869\n",
      "Epoch 32/100\n",
      "10/10 [==============================] - 0s 300us/sample - loss: 48.5485\n",
      "Epoch 33/100\n",
      "10/10 [==============================] - 0s 700us/sample - loss: 48.0153\n",
      "Epoch 34/100\n",
      "10/10 [==============================] - 0s 450us/sample - loss: 47.4874\n",
      "Epoch 35/100\n",
      "10/10 [==============================] - 0s 650us/sample - loss: 46.9648\n",
      "Epoch 36/100\n",
      "10/10 [==============================] - 0s 450us/sample - loss: 46.4474\n",
      "Epoch 37/100\n",
      "10/10 [==============================] - 0s 400us/sample - loss: 45.9353\n",
      "Epoch 38/100\n",
      "10/10 [==============================] - 0s 701us/sample - loss: 45.4283\n",
      "Epoch 39/100\n",
      "10/10 [==============================] - 0s 601us/sample - loss: 44.9264\n",
      "Epoch 40/100\n",
      "10/10 [==============================] - 0s 350us/sample - loss: 44.4297\n",
      "Epoch 41/100\n",
      "10/10 [==============================] - 0s 450us/sample - loss: 43.9380\n",
      "Epoch 42/100\n",
      "10/10 [==============================] - 0s 450us/sample - loss: 43.4514\n",
      "Epoch 43/100\n",
      "10/10 [==============================] - 0s 350us/sample - loss: 42.9698\n",
      "Epoch 44/100\n",
      "10/10 [==============================] - 0s 3ms/sample - loss: 42.4932\n",
      "Epoch 45/100\n",
      "10/10 [==============================] - 0s 250us/sample - loss: 42.0215\n",
      "Epoch 46/100\n",
      "10/10 [==============================] - 0s 300us/sample - loss: 41.5547\n",
      "Epoch 47/100\n",
      "10/10 [==============================] - 0s 300us/sample - loss: 41.0928\n",
      "Epoch 48/100\n",
      "10/10 [==============================] - 0s 300us/sample - loss: 40.6357\n",
      "Epoch 49/100\n",
      "10/10 [==============================] - 0s 400us/sample - loss: 40.1834\n",
      "Epoch 50/100\n",
      "10/10 [==============================] - 0s 300us/sample - loss: 39.7358\n",
      "Epoch 51/100\n",
      "10/10 [==============================] - 0s 401us/sample - loss: 39.2929\n",
      "Epoch 52/100\n",
      "10/10 [==============================] - 0s 2ms/sample - loss: 38.8548\n",
      "Epoch 53/100\n",
      "10/10 [==============================] - 0s 500us/sample - loss: 38.4212\n",
      "Epoch 54/100\n",
      "10/10 [==============================] - 0s 450us/sample - loss: 37.9922\n",
      "Epoch 55/100\n",
      "10/10 [==============================] - 0s 350us/sample - loss: 37.5678\n",
      "Epoch 56/100\n",
      "10/10 [==============================] - 0s 400us/sample - loss: 37.1478\n",
      "Epoch 57/100\n",
      "10/10 [==============================] - 0s 350us/sample - loss: 36.7324\n",
      "Epoch 58/100\n",
      "10/10 [==============================] - 0s 350us/sample - loss: 36.3213\n",
      "Epoch 59/100\n",
      "10/10 [==============================] - 0s 500us/sample - loss: 35.9146\n",
      "Epoch 60/100\n",
      "10/10 [==============================] - 0s 450us/sample - loss: 35.5123\n",
      "Epoch 61/100\n",
      "10/10 [==============================] - 0s 2ms/sample - loss: 35.1143\n",
      "Epoch 62/100\n",
      "10/10 [==============================] - 0s 650us/sample - loss: 34.7205\n",
      "Epoch 63/100\n",
      "10/10 [==============================] - 0s 300us/sample - loss: 34.3309\n",
      "Epoch 64/100\n",
      "10/10 [==============================] - 0s 400us/sample - loss: 33.9455\n",
      "Epoch 65/100\n",
      "10/10 [==============================] - 0s 350us/sample - loss: 33.5642\n",
      "Epoch 66/100\n",
      "10/10 [==============================] - 0s 450us/sample - loss: 33.1871\n",
      "Epoch 67/100\n",
      "10/10 [==============================] - 0s 450us/sample - loss: 32.8139\n",
      "Epoch 68/100\n",
      "10/10 [==============================] - 0s 300us/sample - loss: 32.4448\n",
      "Epoch 69/100\n",
      "10/10 [==============================] - 0s 351us/sample - loss: 32.0797\n",
      "Epoch 70/100\n",
      "10/10 [==============================] - 0s 350us/sample - loss: 31.7185\n",
      "Epoch 71/100\n",
      "10/10 [==============================] - 0s 400us/sample - loss: 31.3611\n",
      "Epoch 72/100\n",
      "10/10 [==============================] - 0s 400us/sample - loss: 31.0077\n",
      "Epoch 73/100\n",
      "10/10 [==============================] - 0s 350us/sample - loss: 30.6580\n",
      "Epoch 74/100\n",
      "10/10 [==============================] - 0s 1ms/sample - loss: 30.3121\n",
      "Epoch 75/100\n",
      "10/10 [==============================] - 0s 550us/sample - loss: 29.9700\n",
      "Epoch 76/100\n",
      "10/10 [==============================] - 0s 600us/sample - loss: 29.6316\n",
      "Epoch 77/100\n",
      "10/10 [==============================] - 0s 2ms/sample - loss: 29.2968\n",
      "Epoch 78/100\n",
      "10/10 [==============================] - 0s 500us/sample - loss: 28.9656\n",
      "Epoch 79/100\n",
      "10/10 [==============================] - 0s 300us/sample - loss: 28.6381\n",
      "Epoch 80/100\n",
      "10/10 [==============================] - 0s 300us/sample - loss: 28.3141\n",
      "Epoch 81/100\n",
      "10/10 [==============================] - 0s 350us/sample - loss: 27.9936\n",
      "Epoch 82/100\n",
      "10/10 [==============================] - 0s 600us/sample - loss: 27.6766\n",
      "Epoch 83/100\n",
      "10/10 [==============================] - 0s 350us/sample - loss: 27.3630\n",
      "Epoch 84/100\n",
      "10/10 [==============================] - 0s 450us/sample - loss: 27.0528\n",
      "Epoch 85/100\n",
      "10/10 [==============================] - 0s 300us/sample - loss: 26.7460\n",
      "Epoch 86/100\n",
      "10/10 [==============================] - 0s 9ms/sample - loss: 26.4425\n",
      "Epoch 87/100\n",
      "10/10 [==============================] - 0s 300us/sample - loss: 26.1423\n",
      "Epoch 88/100\n",
      "10/10 [==============================] - 0s 400us/sample - loss: 25.8454\n",
      "Epoch 89/100\n",
      "10/10 [==============================] - 0s 250us/sample - loss: 25.5518\n",
      "Epoch 90/100\n",
      "10/10 [==============================] - 0s 300us/sample - loss: 25.2613\n",
      "Epoch 91/100\n",
      "10/10 [==============================] - 0s 350us/sample - loss: 24.9740\n",
      "Epoch 92/100\n",
      "10/10 [==============================] - 0s 450us/sample - loss: 24.6898\n",
      "Epoch 93/100\n",
      "10/10 [==============================] - 0s 300us/sample - loss: 24.4087\n",
      "Epoch 94/100\n",
      "10/10 [==============================] - 0s 350us/sample - loss: 24.1308\n",
      "Epoch 95/100\n",
      "10/10 [==============================] - 0s 2ms/sample - loss: 23.8558\n",
      "Epoch 96/100\n",
      "10/10 [==============================] - 0s 550us/sample - loss: 23.5838\n"
     ]
    },
    {
     "name": "stdout",
     "output_type": "stream",
     "text": [
      "Epoch 97/100\n",
      "10/10 [==============================] - 0s 400us/sample - loss: 23.3148\n",
      "Epoch 98/100\n",
      "10/10 [==============================] - 0s 550us/sample - loss: 23.0488\n",
      "Epoch 99/100\n",
      "10/10 [==============================] - 0s 300us/sample - loss: 22.7856\n",
      "Epoch 100/100\n",
      "10/10 [==============================] - 0s 300us/sample - loss: 22.5253\n"
     ]
    },
    {
     "data": {
      "text/plain": [
       "<tensorflow.python.keras.callbacks.History at 0x22dcab1c5c0>"
      ]
     },
     "execution_count": 5,
     "metadata": {},
     "output_type": "execute_result"
    }
   ],
   "source": [
    "model.compile(loss='mean_squared_error',optimizer='adam')\n",
    "model.fit(input,output,epochs=100)"
   ]
  },
  {
   "cell_type": "markdown",
   "metadata": {},
   "source": [
    "# We will now make the model predict the result if the input is 20.. the actual values..is .... so it "
   ]
  },
  {
   "cell_type": "code",
   "execution_count": 6,
   "metadata": {},
   "outputs": [
    {
     "name": "stdout",
     "output_type": "stream",
     "text": [
      "[[48.124763]]\n"
     ]
    }
   ],
   "source": [
    "predictions = model.predict([20])\n",
    "print(predictions)"
   ]
  },
  {
   "cell_type": "markdown",
   "metadata": {},
   "source": [
    "# if you wish to imporve your machine learning model's performance here are more few changes you can make:\n",
    "\n",
    "\n",
    "1-----increase number of layers\n",
    "2-----increase the number of epoches\n",
    "3-------increase the size of traning data\n",
    "4------clean training data by removing outliers"
   ]
  },
  {
   "cell_type": "code",
   "execution_count": null,
   "metadata": {},
   "outputs": [],
   "source": [
    "Thanks for watching"
   ]
  }
 ],
 "metadata": {
  "kernelspec": {
   "display_name": "Python 3",
   "language": "python",
   "name": "python3"
  },
  "language_info": {
   "codemirror_mode": {
    "name": "ipython",
    "version": 3
   },
   "file_extension": ".py",
   "mimetype": "text/x-python",
   "name": "python",
   "nbconvert_exporter": "python",
   "pygments_lexer": "ipython3",
   "version": "3.7.3"
  }
 },
 "nbformat": 4,
 "nbformat_minor": 2
}
